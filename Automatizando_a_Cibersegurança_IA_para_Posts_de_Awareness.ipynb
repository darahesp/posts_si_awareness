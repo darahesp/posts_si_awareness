{
  "nbformat": 4,
  "nbformat_minor": 0,
  "metadata": {
    "colab": {
      "provenance": []
    },
    "kernelspec": {
      "name": "python3",
      "display_name": "Python 3"
    },
    "language_info": {
      "name": "python"
    }
  },
  "cells": [
    {
      "cell_type": "code",
      "source": [
        "%pip -q install google-genai"
      ],
      "metadata": {
        "id": "UCCbECexLk_h"
      },
      "execution_count": 1,
      "outputs": []
    },
    {
      "cell_type": "code",
      "source": [
        "# Configura a API Key do Google Gemini\n",
        "\n",
        "import os\n",
        "from google.colab import userdata\n",
        "\n",
        "os.environ[\"GOOGLE_API_KEY\"] = userdata.get('GOOGLE_API_KEY')"
      ],
      "metadata": {
        "id": "NfCqHo1tLk8P"
      },
      "execution_count": 2,
      "outputs": []
    },
    {
      "cell_type": "code",
      "source": [
        "# Configura o cliente da SDK do Gemini\n",
        "\n",
        "from google import genai\n",
        "\n",
        "client = genai.Client()\n",
        "\n",
        "MODEL_ID = \"gemini-2.0-flash\""
      ],
      "metadata": {
        "id": "bV4w0H5TLk5g"
      },
      "execution_count": 3,
      "outputs": []
    },
    {
      "cell_type": "code",
      "source": [
        "# Pergunta ao Gemini uma informação mais recente que seu conhecimento\n",
        "\n",
        "from IPython.display import HTML, Markdown\n",
        "\n",
        "# Perguntar pro modelo quando é a próxima imersão de IA ###############################################\n",
        "resposta = client.models.generate_content(\n",
        "    model=MODEL_ID,\n",
        "    contents='Quando é a próxima Imersão IA com Google Gemini da Alura?',\n",
        ")\n",
        "\n",
        "# Exibe a resposta na tela\n",
        "display(Markdown(f\"Resposta:\\n {response.text}\"))"
      ],
      "metadata": {
        "colab": {
          "base_uri": "https://localhost:8080/",
          "height": 64
        },
        "id": "Y9cBAz02xZt9",
        "outputId": "7b2d33f4-83b0-4111-b12f-788ed3410d7d"
      },
      "execution_count": 6,
      "outputs": [
        {
          "output_type": "display_data",
          "data": {
            "text/plain": [
              "<IPython.core.display.Markdown object>"
            ],
            "text/markdown": "Resposta:\n A próxima Imersão IA com Google Gemini da Alura aconteceu entre os dias 12 e 16 de maio de 2025. As inscrições estiveram abertas até o dia 11 de maio de 2025.\n"
          },
          "metadata": {}
        }
      ]
    },
    {
      "cell_type": "code",
      "source": [
        "# Pergunta ao Gemini uma informação utilizando a busca do Google como contexto\n",
        "\n",
        "response = client.models.generate_content(\n",
        "    model=MODEL_ID,\n",
        "    contents='Quando é a próxima Imersão IA com Google Gemini da Alura?',\n",
        "    config={\"tools\": [{\"google_search\": {}}]}\n",
        ")\n",
        "\n",
        "# Exibe a resposta na tela\n",
        "display(Markdown(f\"Resposta:\\n {response.text}\"))"
      ],
      "metadata": {
        "colab": {
          "base_uri": "https://localhost:8080/",
          "height": 64
        },
        "id": "lc2JPA92xbnp",
        "outputId": "c4887eb5-5000-4da6-9293-6f06758c6244"
      },
      "execution_count": 5,
      "outputs": [
        {
          "output_type": "display_data",
          "data": {
            "text/plain": [
              "<IPython.core.display.Markdown object>"
            ],
            "text/markdown": "Resposta:\n A próxima Imersão IA com Google Gemini da Alura aconteceu entre os dias 12 e 16 de maio de 2025. As inscrições estiveram abertas até o dia 11 de maio de 2025.\n"
          },
          "metadata": {}
        }
      ]
    },
    {
      "cell_type": "code",
      "source": [
        "# Exibe a busca\n",
        "print(f\"Busca realizada: {response.candidates[0].grounding_metadata.web_search_queries}\")\n",
        "# Exibe as URLs nas quais ele se baseou\n",
        "print(f\"Páginas utilizadas na resposta: {', '.join([site.web.title for site in response.candidates[0].grounding_metadata.grounding_chunks])}\")\n",
        "print()\n",
        "display(HTML(response.candidates[0].grounding_metadata.search_entry_point.rendered_content))"
      ],
      "metadata": {
        "colab": {
          "base_uri": "https://localhost:8080/",
          "height": 117
        },
        "id": "6Cg0KNJGMgC5",
        "outputId": "6414b46e-14cf-4a1c-81e9-0f1b73f218c7"
      },
      "execution_count": 7,
      "outputs": [
        {
          "output_type": "stream",
          "name": "stdout",
          "text": [
            "Busca realizada: ['próxima Imersão IA com Google Gemini Alura']\n",
            "Páginas utilizadas na resposta: starten.tech, youtube.com, alura.com.br\n",
            "\n"
          ]
        },
        {
          "output_type": "display_data",
          "data": {
            "text/plain": [
              "<IPython.core.display.HTML object>"
            ],
            "text/html": [
              "<style>\n",
              ".container {\n",
              "  align-items: center;\n",
              "  border-radius: 8px;\n",
              "  display: flex;\n",
              "  font-family: Google Sans, Roboto, sans-serif;\n",
              "  font-size: 14px;\n",
              "  line-height: 20px;\n",
              "  padding: 8px 12px;\n",
              "}\n",
              ".chip {\n",
              "  display: inline-block;\n",
              "  border: solid 1px;\n",
              "  border-radius: 16px;\n",
              "  min-width: 14px;\n",
              "  padding: 5px 16px;\n",
              "  text-align: center;\n",
              "  user-select: none;\n",
              "  margin: 0 8px;\n",
              "  -webkit-tap-highlight-color: transparent;\n",
              "}\n",
              ".carousel {\n",
              "  overflow: auto;\n",
              "  scrollbar-width: none;\n",
              "  white-space: nowrap;\n",
              "  margin-right: -12px;\n",
              "}\n",
              ".headline {\n",
              "  display: flex;\n",
              "  margin-right: 4px;\n",
              "}\n",
              ".gradient-container {\n",
              "  position: relative;\n",
              "}\n",
              ".gradient {\n",
              "  position: absolute;\n",
              "  transform: translate(3px, -9px);\n",
              "  height: 36px;\n",
              "  width: 9px;\n",
              "}\n",
              "@media (prefers-color-scheme: light) {\n",
              "  .container {\n",
              "    background-color: #fafafa;\n",
              "    box-shadow: 0 0 0 1px #0000000f;\n",
              "  }\n",
              "  .headline-label {\n",
              "    color: #1f1f1f;\n",
              "  }\n",
              "  .chip {\n",
              "    background-color: #ffffff;\n",
              "    border-color: #d2d2d2;\n",
              "    color: #5e5e5e;\n",
              "    text-decoration: none;\n",
              "  }\n",
              "  .chip:hover {\n",
              "    background-color: #f2f2f2;\n",
              "  }\n",
              "  .chip:focus {\n",
              "    background-color: #f2f2f2;\n",
              "  }\n",
              "  .chip:active {\n",
              "    background-color: #d8d8d8;\n",
              "    border-color: #b6b6b6;\n",
              "  }\n",
              "  .logo-dark {\n",
              "    display: none;\n",
              "  }\n",
              "  .gradient {\n",
              "    background: linear-gradient(90deg, #fafafa 15%, #fafafa00 100%);\n",
              "  }\n",
              "}\n",
              "@media (prefers-color-scheme: dark) {\n",
              "  .container {\n",
              "    background-color: #1f1f1f;\n",
              "    box-shadow: 0 0 0 1px #ffffff26;\n",
              "  }\n",
              "  .headline-label {\n",
              "    color: #fff;\n",
              "  }\n",
              "  .chip {\n",
              "    background-color: #2c2c2c;\n",
              "    border-color: #3c4043;\n",
              "    color: #fff;\n",
              "    text-decoration: none;\n",
              "  }\n",
              "  .chip:hover {\n",
              "    background-color: #353536;\n",
              "  }\n",
              "  .chip:focus {\n",
              "    background-color: #353536;\n",
              "  }\n",
              "  .chip:active {\n",
              "    background-color: #464849;\n",
              "    border-color: #53575b;\n",
              "  }\n",
              "  .logo-light {\n",
              "    display: none;\n",
              "  }\n",
              "  .gradient {\n",
              "    background: linear-gradient(90deg, #1f1f1f 15%, #1f1f1f00 100%);\n",
              "  }\n",
              "}\n",
              "</style>\n",
              "<div class=\"container\">\n",
              "  <div class=\"headline\">\n",
              "    <svg class=\"logo-light\" width=\"18\" height=\"18\" viewBox=\"9 9 35 35\" fill=\"none\" xmlns=\"http://www.w3.org/2000/svg\">\n",
              "      <path fill-rule=\"evenodd\" clip-rule=\"evenodd\" d=\"M42.8622 27.0064C42.8622 25.7839 42.7525 24.6084 42.5487 23.4799H26.3109V30.1568H35.5897C35.1821 32.3041 33.9596 34.1222 32.1258 35.3448V39.6864H37.7213C40.9814 36.677 42.8622 32.2571 42.8622 27.0064V27.0064Z\" fill=\"#4285F4\"/>\n",
              "      <path fill-rule=\"evenodd\" clip-rule=\"evenodd\" d=\"M26.3109 43.8555C30.9659 43.8555 34.8687 42.3195 37.7213 39.6863L32.1258 35.3447C30.5898 36.3792 28.6306 37.0061 26.3109 37.0061C21.8282 37.0061 18.0195 33.9811 16.6559 29.906H10.9194V34.3573C13.7563 39.9841 19.5712 43.8555 26.3109 43.8555V43.8555Z\" fill=\"#34A853\"/>\n",
              "      <path fill-rule=\"evenodd\" clip-rule=\"evenodd\" d=\"M16.6559 29.8904C16.3111 28.8559 16.1074 27.7588 16.1074 26.6146C16.1074 25.4704 16.3111 24.3733 16.6559 23.3388V18.8875H10.9194C9.74388 21.2072 9.06992 23.8247 9.06992 26.6146C9.06992 29.4045 9.74388 32.022 10.9194 34.3417L15.3864 30.8621L16.6559 29.8904V29.8904Z\" fill=\"#FBBC05\"/>\n",
              "      <path fill-rule=\"evenodd\" clip-rule=\"evenodd\" d=\"M26.3109 16.2386C28.85 16.2386 31.107 17.1164 32.9095 18.8091L37.8466 13.8719C34.853 11.082 30.9659 9.3736 26.3109 9.3736C19.5712 9.3736 13.7563 13.245 10.9194 18.8875L16.6559 23.3388C18.0195 19.2636 21.8282 16.2386 26.3109 16.2386V16.2386Z\" fill=\"#EA4335\"/>\n",
              "    </svg>\n",
              "    <svg class=\"logo-dark\" width=\"18\" height=\"18\" viewBox=\"0 0 48 48\" xmlns=\"http://www.w3.org/2000/svg\">\n",
              "      <circle cx=\"24\" cy=\"23\" fill=\"#FFF\" r=\"22\"/>\n",
              "      <path d=\"M33.76 34.26c2.75-2.56 4.49-6.37 4.49-11.26 0-.89-.08-1.84-.29-3H24.01v5.99h8.03c-.4 2.02-1.5 3.56-3.07 4.56v.75l3.91 2.97h.88z\" fill=\"#4285F4\"/>\n",
              "      <path d=\"M15.58 25.77A8.845 8.845 0 0 0 24 31.86c1.92 0 3.62-.46 4.97-1.31l4.79 3.71C31.14 36.7 27.65 38 24 38c-5.93 0-11.01-3.4-13.45-8.36l.17-1.01 4.06-2.85h.8z\" fill=\"#34A853\"/>\n",
              "      <path d=\"M15.59 20.21a8.864 8.864 0 0 0 0 5.58l-5.03 3.86c-.98-2-1.53-4.25-1.53-6.64 0-2.39.55-4.64 1.53-6.64l1-.22 3.81 2.98.22 1.08z\" fill=\"#FBBC05\"/>\n",
              "      <path d=\"M24 14.14c2.11 0 4.02.75 5.52 1.98l4.36-4.36C31.22 9.43 27.81 8 24 8c-5.93 0-11.01 3.4-13.45 8.36l5.03 3.85A8.86 8.86 0 0 1 24 14.14z\" fill=\"#EA4335\"/>\n",
              "    </svg>\n",
              "    <div class=\"gradient-container\"><div class=\"gradient\"></div></div>\n",
              "  </div>\n",
              "  <div class=\"carousel\">\n",
              "    <a class=\"chip\" href=\"https://vertexaisearch.cloud.google.com/grounding-api-redirect/AbF9wXGtF7IMyl-YImK0aVOTIxZ1EbDRCoGvB2D_wfTf3zOto4mFMb4B8SxuNp-k4cQY1TOvUbLjFNqiAu40usNLJLRm9avJqlRUW1TehMHqUnA3PncR2JA_gP89gaQ2ZNkM56ZHvuL-6m3_H9QfIiglC0FAPKGfD4UEN94SDWFySAK3ZQWFON16aXjrDhA_NErkgh7avf75YPFbd476XqDusiIOWpYMocgdxcwHUS_ca0N88t4wZsKNJ09H\">próxima Imersão IA com Google Gemini Alura</a>\n",
              "  </div>\n",
              "</div>\n"
            ]
          },
          "metadata": {}
        }
      ]
    },
    {
      "cell_type": "code",
      "source": [
        "# Instalar Framework de agentes do Google ################################################\n",
        "!pip install -q google-adk"
      ],
      "metadata": {
        "colab": {
          "base_uri": "https://localhost:8080/"
        },
        "id": "a1eRPalxEnj7",
        "outputId": "2331920f-20fd-4852-adde-415603c4f034"
      },
      "execution_count": 8,
      "outputs": [
        {
          "output_type": "stream",
          "name": "stdout",
          "text": [
            "\u001b[?25l   \u001b[90m━━━━━━━━━━━━━━━━━━━━━━━━━━━━━━━━━━━━━━━━\u001b[0m \u001b[32m0.0/1.2 MB\u001b[0m \u001b[31m?\u001b[0m eta \u001b[36m-:--:--\u001b[0m\r\u001b[2K   \u001b[91m━━━━━━━━━━━━━━━\u001b[0m\u001b[90m╺\u001b[0m\u001b[90m━━━━━━━━━━━━━━━━━━━━━━━━\u001b[0m \u001b[32m0.5/1.2 MB\u001b[0m \u001b[31m13.3 MB/s\u001b[0m eta \u001b[36m0:00:01\u001b[0m\r\u001b[2K   \u001b[90m━━━━━━━━━━━━━━━━━━━━━━━━━━━━━━━━━━━━━━━━\u001b[0m \u001b[32m1.2/1.2 MB\u001b[0m \u001b[31m17.2 MB/s\u001b[0m eta \u001b[36m0:00:00\u001b[0m\n",
            "\u001b[?25h\u001b[?25l   \u001b[90m━━━━━━━━━━━━━━━━━━━━━━━━━━━━━━━━━━━━━━━━\u001b[0m \u001b[32m0.0/232.1 kB\u001b[0m \u001b[31m?\u001b[0m eta \u001b[36m-:--:--\u001b[0m\r\u001b[2K   \u001b[90m━━━━━━━━━━━━━━━━━━━━━━━━━━━━━━━━━━━━━━━━\u001b[0m \u001b[32m232.1/232.1 kB\u001b[0m \u001b[31m17.0 MB/s\u001b[0m eta \u001b[36m0:00:00\u001b[0m\n",
            "\u001b[2K   \u001b[90m━━━━━━━━━━━━━━━━━━━━━━━━━━━━━━━━━━━━━━━━\u001b[0m \u001b[32m95.2/95.2 kB\u001b[0m \u001b[31m6.1 MB/s\u001b[0m eta \u001b[36m0:00:00\u001b[0m\n",
            "\u001b[2K   \u001b[90m━━━━━━━━━━━━━━━━━━━━━━━━━━━━━━━━━━━━━━━━\u001b[0m \u001b[32m217.1/217.1 kB\u001b[0m \u001b[31m15.4 MB/s\u001b[0m eta \u001b[36m0:00:00\u001b[0m\n",
            "\u001b[2K   \u001b[90m━━━━━━━━━━━━━━━━━━━━━━━━━━━━━━━━━━━━━━━━\u001b[0m \u001b[32m334.1/334.1 kB\u001b[0m \u001b[31m23.3 MB/s\u001b[0m eta \u001b[36m0:00:00\u001b[0m\n",
            "\u001b[2K   \u001b[90m━━━━━━━━━━━━━━━━━━━━━━━━━━━━━━━━━━━━━━━━\u001b[0m \u001b[32m125.1/125.1 kB\u001b[0m \u001b[31m9.7 MB/s\u001b[0m eta \u001b[36m0:00:00\u001b[0m\n",
            "\u001b[2K   \u001b[90m━━━━━━━━━━━━━━━━━━━━━━━━━━━━━━━━━━━━━━━━\u001b[0m \u001b[32m65.8/65.8 kB\u001b[0m \u001b[31m5.3 MB/s\u001b[0m eta \u001b[36m0:00:00\u001b[0m\n",
            "\u001b[2K   \u001b[90m━━━━━━━━━━━━━━━━━━━━━━━━━━━━━━━━━━━━━━━━\u001b[0m \u001b[32m119.0/119.0 kB\u001b[0m \u001b[31m9.0 MB/s\u001b[0m eta \u001b[36m0:00:00\u001b[0m\n",
            "\u001b[2K   \u001b[90m━━━━━━━━━━━━━━━━━━━━━━━━━━━━━━━━━━━━━━━━\u001b[0m \u001b[32m194.9/194.9 kB\u001b[0m \u001b[31m12.6 MB/s\u001b[0m eta \u001b[36m0:00:00\u001b[0m\n",
            "\u001b[2K   \u001b[90m━━━━━━━━━━━━━━━━━━━━━━━━━━━━━━━━━━━━━━━━\u001b[0m \u001b[32m62.5/62.5 kB\u001b[0m \u001b[31m5.0 MB/s\u001b[0m eta \u001b[36m0:00:00\u001b[0m\n",
            "\u001b[2K   \u001b[90m━━━━━━━━━━━━━━━━━━━━━━━━━━━━━━━━━━━━━━━━\u001b[0m \u001b[32m103.3/103.3 kB\u001b[0m \u001b[31m7.7 MB/s\u001b[0m eta \u001b[36m0:00:00\u001b[0m\n",
            "\u001b[2K   \u001b[90m━━━━━━━━━━━━━━━━━━━━━━━━━━━━━━━━━━━━━━━━\u001b[0m \u001b[32m44.4/44.4 kB\u001b[0m \u001b[31m3.2 MB/s\u001b[0m eta \u001b[36m0:00:00\u001b[0m\n",
            "\u001b[2K   \u001b[90m━━━━━━━━━━━━━━━━━━━━━━━━━━━━━━━━━━━━━━━━\u001b[0m \u001b[32m72.0/72.0 kB\u001b[0m \u001b[31m5.4 MB/s\u001b[0m eta \u001b[36m0:00:00\u001b[0m\n",
            "\u001b[?25h"
          ]
        }
      ]
    },
    {
      "cell_type": "code",
      "execution_count": 22,
      "metadata": {
        "id": "aePV2bdfDeoW"
      },
      "outputs": [],
      "source": [
        "from google.adk.agents import Agent\n",
        "from google.adk.runners import Runner\n",
        "from google.adk.sessions import InMemorySessionService\n",
        "from google.adk.tools import google_search\n",
        "from google.genai import types  # Para criar conteúdos (Content e Part)\n",
        "from datetime import date\n",
        "import textwrap # Para formatar melhor a saída de texto\n",
        "from IPython.display import display, Markdown # Para exibir texto formatado no Colab\n",
        "import requests # Para fazer requisições HTTP\n",
        "import warnings\n",
        "\n",
        "warnings.filterwarnings(\"ignore\")"
      ]
    },
    {
      "cell_type": "code",
      "source": [
        "# Função auxiliar que envia uma mensagem para um agente via Runner e retorna a resposta final\n",
        "def call_agent(agent: Agent, message_text: str) -> str:\n",
        "    # Cria um serviço de sessão em memória\n",
        "    session_service = InMemorySessionService()\n",
        "    # Cria uma nova sessão (você pode personalizar os IDs conforme necessário)\n",
        "    session = session_service.create_session(app_name=agent.name, user_id=\"user1\", session_id=\"session1\")\n",
        "    # Cria um Runner para o agente\n",
        "    runner = Runner(agent=agent, app_name=agent.name, session_service=session_service)\n",
        "    # Cria o conteúdo da mensagem de entrada\n",
        "    content = types.Content(role=\"user\", parts=[types.Part(text=message_text)])\n",
        "\n",
        "    final_response = \"\"\n",
        "    # Itera assincronamente pelos eventos retornados durante a execução do agente\n",
        "    for event in runner.run(user_id=\"user1\", session_id=\"session1\", new_message=content):\n",
        "        if event.is_final_response():\n",
        "          for part in event.content.parts:\n",
        "            if part.text is not None:\n",
        "              final_response += part.text\n",
        "              final_response += \"\\n\"\n",
        "    return final_response"
      ],
      "metadata": {
        "id": "_xP4lWhsS5ko"
      },
      "execution_count": 23,
      "outputs": []
    },
    {
      "cell_type": "code",
      "source": [
        "# Função auxiliar para exibir texto formatado em Markdown no Colab\n",
        "def to_markdown(text):\n",
        "  text = text.replace('•', '  *')\n",
        "  return Markdown(textwrap.indent(text, '> ', predicate=lambda _: True))"
      ],
      "metadata": {
        "id": "8dosiodaxfFR"
      },
      "execution_count": 24,
      "outputs": []
    },
    {
      "cell_type": "code",
      "source": [
        "##########################################\n",
        "# --- Agente 1: Buscador de Notícias --- #\n",
        "##########################################\n",
        "def agente_buscador(topico, data_de_hoje):\n",
        "\n",
        "    buscador = Agent(\n",
        "        name=\"agente_buscador\",\n",
        "        model=\"gemini-2.0-flash\",\n",
        "        instruction=\"\"\"\n",
        "        Atue como um Líder experiente em Security Awareness. Sua tarefa é realizar uma busca\n",
        "        abrangente no Google Search pelas últimas notícias sobre golpes, fraudes e ataques de\n",
        "        cibersegurança e segurança da informação.\n",
        "\n",
        "        Você deve:\n",
        "      - Verificar um máximo de [Número] resultados de busca. (Sugestão inicial: 10)\n",
        "      - Concentrar-se em notícias publicadas nos últimos 45 dias (ou seja, a partir de aproximadamente 2 de abril de 2025 até hoje, 17 de maio de 2025).\n",
        "      - Priorizar fontes confiáveis e relevantes na área de segurança da informação.\n",
        "      - Fornecer um resumo conciso de cada notícia encontrada, incluindo o título, a fonte e a data de publicação.\n",
        "      - Listar os links diretos para cada uma das notícias encontradas.\n",
        "\n",
        "      O objetivo é fornecer ao próximo agente uma lista de notícias relevantes e atuais para análise.\n",
        "        \"\"\",\n",
        "        description=\"Agente que busca informações no Google\",\n",
        "        tools=[google_search]\n",
        "    )\n",
        "\n",
        "    entrada_do_agente_buscador = f\"Tópico: {topico}\\nData de hoje: {data_de_hoje}\"\n",
        "\n",
        "    lancamentos = call_agent(buscador, entrada_do_agente_buscador)\n",
        "    return lancamentos"
      ],
      "metadata": {
        "id": "o8bqIfi_DyH8"
      },
      "execution_count": 25,
      "outputs": []
    },
    {
      "cell_type": "code",
      "source": [
        "################################################\n",
        "# --- Agente 2: Planejador de posts --- #\n",
        "################################################\n",
        "def agente_planejador(topico, lancamentos_buscados):\n",
        "    planejador = Agent(\n",
        "        name=\"agente_planejador\",\n",
        "        model=\"gemini-2.0-flash\",\n",
        "        # Inserir as instruções do Agente Planejador #################################################\n",
        "        instruction=\"\"\"\n",
        "        Você é um especialista em análise de conteúdo de Security Awareness. Dada a seguinte lista de notícias (fornecida pelo Buscador de Notícias),\n",
        "        sua tarefa é selecionar a notícia mais relevante e impactante para a criação de um post de conscientização para os colaboradores de uma empresa.\n",
        "\n",
        "        Considere os seguintes critérios para a seleção:\n",
        "        - **Atualidade:** A notícia deve ser recente e refletir ameaças ativas no cenário atual.\n",
        "        - **Impacto Potencial:** A notícia deve abordar um golpe, fraude ou ataque que possa afetar um número significativo de pessoas ou causar danos relevantes.\n",
        "        - **Clareza e Compreensão:** A notícia deve ser clara e fácil de entender, mesmo para pessoas sem conhecimento técnico em segurança da informação.\n",
        "        - **Relevância para o público:** A notícia deve ser algo que os colaboradores da empresa provavelmente encontrarão ou precisarão estar cientes.\n",
        "\n",
        "        Sua saída deve ser:\n",
        "        - O título da notícia selecionada.\n",
        "        - O link direto para a notícia selecionada.\n",
        "        - Um breve parágrafo explicando o motivo da sua seleção, destacando sua relevância e potencial impacto para os colaboradores.\n",
        "        \"\"\",\n",
        "        description=\"Agente que planeja posts\",\n",
        "        tools=[google_search]\n",
        "    )\n",
        "\n",
        "    entrada_do_agente_planejador = f\"Tópico:{topico}\\nLançamentos buscados: {lancamentos_buscados}\"\n",
        "    # Executa o agente\n",
        "    plano_do_post = call_agent(planejador, entrada_do_agente_planejador)\n",
        "    return plano_do_post"
      ],
      "metadata": {
        "id": "y3VO1uo5_ghO"
      },
      "execution_count": 18,
      "outputs": []
    },
    {
      "cell_type": "code",
      "source": [
        "######################################\n",
        "# --- Agente 3: Redator do Post --- #\n",
        "######################################\n",
        "def agente_redator(topico, plano_de_post):\n",
        "    redator = Agent(\n",
        "        name=\"agente_redator\",\n",
        "        model=\"gemini-2.5-pro-preview-03-25\",\n",
        "        instruction=\"\"\"\n",
        "            Você é um redator experiente em comunicação de Security Awareness, com foco em criar mensagens claras, objetivas e\n",
        "            impactantes para colaboradores de uma empresa. Com base na seguinte notícia selecionada (fornecida pelo Selecionador de Notícias),\n",
        "            sua tarefa é criar um post conciso e informativo, seguindo os seguintes tópicos:\n",
        "\n",
        "          - **Título:** Crie um título chamativo e direto, que capture a atenção do leitor e resuma o tema principal da notícia.\n",
        "          - **Introdução Sucinta:** Escreva um breve parágrafo (máximo 3-4 frases) introduzindo o golpe, fraude ou ataque de forma\n",
        "          clara e direta, explicando o que aconteceu.\n",
        "          - **Riscos:** Detalhe os principais riscos e consequências que os colaboradores podem enfrentar caso caiam nesse tipo de golpe ou ataque.\n",
        "          Seja específico sobre os impactos potenciais (perda de dados, prejuízo financeiro, acesso indevido a contas, etc.).\n",
        "          - **Como se Proteger:** Forneça dicas práticas e acionáveis sobre como os colaboradores podem se proteger contra esse tipo de ameaça.\n",
        "          Use linguagem clara e direta, com passos simples e fáceis de seguir.\n",
        "\n",
        "          Seu objetivo é criar um post que informe, alerte e oriente os colaboradores sobre como se manterem seguros.\n",
        "            \"\"\",\n",
        "        description=\"Agente redator de posts engajadores para Instagram\"\n",
        "    )\n",
        "    entrada_do_agente_redator = f\"Tópico: {topico}\\nPlano de post: {plano_de_post}\"\n",
        "    # Executa o agente\n",
        "    rascunho = call_agent(redator, entrada_do_agente_redator)\n",
        "    return rascunho"
      ],
      "metadata": {
        "id": "uOqlg2TRLVh1"
      },
      "execution_count": 19,
      "outputs": []
    },
    {
      "cell_type": "code",
      "source": [
        "##########################################\n",
        "# --- Agente 4: Revisor de Qualidade --- #\n",
        "##########################################\n",
        "def agente_revisor(topico, rascunho_gerado):\n",
        "    revisor = Agent(\n",
        "        name=\"agente_revisor\",\n",
        "        model=\"gemini-2.5-pro-preview-03-25\",\n",
        "        instruction=\"\"\"\n",
        "            Você é um revisor de conteúdo de Security Awareness com um olhar crítico e foco na clareza e relevância da informação.\n",
        "            Sua tarefa é revisar o post gerado pelo Redator de Comunicação, com base na notícia original (fornecida pelo Selecionador de Notícias).\n",
        "\n",
        "            Você deve avaliar se o post:\n",
        "            - **Faz sentido:** As informações apresentadas são coerentes e alinhadas com a notícia original?\n",
        "            - **É preciso:** Os detalhes do golpe, fraude ou ataque estão corretos?\n",
        "            - **É claro e objetivo:** A linguagem utilizada é fácil de entender por todos os colaboradores?\n",
        "            - **O título é adequado:** O título captura a essência da notícia e é chamativo?\n",
        "            - **A introdução é eficaz:** A introdução contextualiza o assunto de forma clara e concisa?\n",
        "            - **Os riscos estão bem definidos:** Os potenciais impactos para os colaboradores são claros e relevantes?\n",
        "            - **As dicas de proteção são práticas e acionáveis:** Os colaboradores saberão o que fazer para se proteger?\n",
        "            - **O tom é adequado:** O tom da mensagem é informativo e de alerta, sem gerar pânico desnecessário?\n",
        "\n",
        "            Se necessário, sugira melhorias ou correções para o post, visando garantir a máxima clareza e impacto da comunicação.\n",
        "            Sua saída deve ser um feedback detalhado sobre a qualidade do post e, se aplicável, sugestões de melhoria.\n",
        "            \"\"\",\n",
        "        description=\"Agente revisor de post para redes sociais.\"\n",
        "    )\n",
        "    entrada_do_agente_revisor = f\"Tópico: {topico}\\nRascunho: {rascunho_gerado}\"\n",
        "    # Executa o agente\n",
        "    texto_revisado = call_agent(revisor, entrada_do_agente_revisor)\n",
        "    return texto_revisado"
      ],
      "metadata": {
        "id": "_aTb1SdkLeT6"
      },
      "execution_count": 20,
      "outputs": []
    },
    {
      "cell_type": "code",
      "source": [
        "data_de_hoje = date.today().strftime(\"%d/%m/%Y\")\n",
        "\n",
        "print(\"🚀 Iniciando o Sistema de Criação de Posts para Instagram com 4 Agentes 🚀\")\n",
        "\n",
        "# --- Obter o Tópico do Usuário ---\n",
        "topico = input(\"❓ Por favor, digite o TÓPICO sobre o qual você quer criar o post de tendências: \")\n",
        "\n",
        "# Inserir lógica do sistema de agentes ################################################\n",
        "if not topico:\n",
        "    print(\"Você esqueceu de digitar o tópico!\")\n",
        "else:\n",
        "    print(f\"Maravilha! Vamos então criar o post sobre novidades em {topico}\")\n",
        "\n",
        "    lancamentos_buscados = agente_buscador(topico, data_de_hoje)\n",
        "    print(\"\\n--- 📝 Resultado do Agente 1 (Buscador) ---\\n\")\n",
        "    display(to_markdown(lancamentos_buscados))\n",
        "    print(\"--------------------------------------------------------------\")\n",
        "\n",
        "    plano_de_post = agente_planejador(topico, lancamentos_buscados)\n",
        "    print(\"\\n--- 📝 Resultado do Agente 2 (Planejador) ---\\n\")\n",
        "    display(to_markdown(plano_de_post))\n",
        "    print(\"--------------------------------------------------------------\")\n",
        "\n",
        "    rascunho_de_post = agente_redator(topico, plano_de_post)\n",
        "    print(\"\\n--- 📝 Resultado do Agente 3 (Redator) ---\\n\")\n",
        "    display(to_markdown(rascunho_de_post))\n",
        "    print(\"--------------------------------------------------------------\")\n",
        "\n",
        "    post_final = agente_revisor(topico, rascunho_de_post)\n",
        "    print(\"\\n--- 📝 Resultado do Agente 4 (Revisor) ---\\n\")\n",
        "    display(to_markdown(post_final))\n",
        "    print(\"--------------------------------------------------------------\")\n"
      ],
      "metadata": {
        "colab": {
          "base_uri": "https://localhost:8080/",
          "height": 1000
        },
        "id": "6xzI6LKzxxnN",
        "outputId": "08230903-d686-41ca-d6bf-4c9fdaef8d12"
      },
      "execution_count": 26,
      "outputs": [
        {
          "output_type": "stream",
          "name": "stdout",
          "text": [
            "🚀 Iniciando o Sistema de Criação de Posts para Instagram com 4 Agentes 🚀\n",
            "❓ Por favor, digite o TÓPICO sobre o qual você quer criar o post de tendências: IA\n",
            "Maravilha! Vamos então criar o post sobre novidades em IA\n",
            "\n",
            "--- 📝 Resultado do Agente 1 (Buscador) ---\n",
            "\n"
          ]
        },
        {
          "output_type": "display_data",
          "data": {
            "text/plain": [
              "<IPython.core.display.Markdown object>"
            ],
            "text/markdown": "> Ok, vou realizar a busca no Google pelas últimas notícias sobre golpes, fraudes e ataques de cibersegurança e segurança da informação relacionados a IA, com foco nos últimos 45 dias e priorizando fontes confiáveis.\n> \n> \n> Com certeza! Aqui está um resumo das notícias mais recentes sobre golpes, fraudes e ataques de cibersegurança e segurança da informação relacionados à IA, com foco nos últimos 45 dias:\n> \n> **1. Fraude impulsionada por IA: A nova ameaça para empresas**\n> \n> *   **Fonte:** WeLiveSecurity (ESET)\n> *   **Data:** 12 de março de 2025\n> *   **Resumo:** A inteligência artificial (IA) está sendo utilizada por cibercriminosos para criar golpes digitais mais sofisticados, incluindo a criação de funcionários falsos com currículos e documentos falsificados, e o uso de deepfakes em fraudes Business Email Compromise (BEC).\n> *   **Link:** [https://vertexaisearch.cloud.google.com/grounding-api-redirect/AbF9wXF882Jmu5hlbG_2WuRLN_YYIfQMzL04uPdYh-gJau_uDrjj0bKJrhDw-ybhHbQaq-pyg_XJkYvoDpTeqG4S1u5q9xAiNX1nexpQ0g0D8br5JWmxVJDRBwKbZofiOOT-iJIlmaaBWvHyyPwr-WBJhdAQV-JSl_GDKUXo4vhrs_YXI8u-q5Xk33_agEJ4klhgVvQ6GazAaVYIt0wwEwLZQoUsX4mTtvsTZ_WHiQqg](https://vertexaisearch.cloud.google.com/grounding-api-redirect/AbF9wXF882Jmu5hlbG_2WuRLN_YYIfQMzL04uPdYh-gJau_uDrjj0bKJrhDw-ybhHbQaq-pyg_XJkYvoDpTeqG4S1u5q9xAiNX1nexpQ0g0D8br5JWmxVJDRBwKbZofiOOT-iJIlmaaBWvHyyPwr-WBJhdAQV-JSl_GDKUXo4vhrs_YXI8u-q5Xk33_agEJ4klhgVvQ6GazAaVYIt0wwEwLZQoUsX4mTtvsTZ_WHiQqg)\n> \n> **2. Avanços e riscos da Inteligência Artificial na Cibersegurança**\n> \n> *   **Fonte:** Protiviti\n> *   **Data:** 1 de abril de 2025\n> *   **Resumo:** A IA está sendo usada tanto para fortalecer a cibersegurança quanto para potencializar ataques cibernéticos. Algoritmos de deepfake e técnicas de processamento de linguagem natural (NLP) estão sendo usados para criar e-mails de phishing personalizados e ataques de força bruta mais eficientes.\n> *   **Link:** [https://vertexaisearch.cloud.google.com/grounding-api-redirect/AbF9wXGKzyDhWCa7l84r41rMMQZSVsujF2cnxdrQT-W8tzop2CyfmCzG4pu5GQ_P5M06inENGFPLsQh_fbJCL47aMlL6FEVPthO8SazGtHwmJdKqkBXVYuKIyrADARMOVDAE7HzF73wCjYXbvAGMnrYxQov9TNrrtgWeNlHQHuAkfqMeNZ2qHhq-ZJanoWA67UykhltHIiE5n4uGUEEEsLLy6rtzdWfioQ==](https://vertexaisearch.cloud.google.com/grounding-api-redirect/AbF9wXGKzyDhWCa7l84r41rMMQZSVsujF2cnxdrQT-W8tzop2CyfmCzG4pu5GQ_P5M06inENGFPLsQh_fbJCL47aMlL6FEVPthO8SazGtHwmJdKqkBXVYuKIyrADARMOVDAE7HzF73wCjYXbvAGMnrYxQov9TNrrtgWeNlHQHuAkfqMeNZ2qHhq-ZJanoWA67UykhltHIiE5n4uGUEEEsLLy6rtzdWfioQ==)\n> \n> **3. Cisco: 77% das empresas no Brasil sofrem ataques com IA, mas 40% subestimam riscos**\n> \n> *   **Fonte:** Portal Contábil SC\n> *   **Data:** 9 de maio de 2025\n> *   **Resumo:** Apesar de 93% das empresas brasileiras usarem IA para detectar ameaças, 77% sofreram incidentes relacionados à tecnologia no último ano, e 40% dos gestores subestimam os riscos. Muitos funcionários usam ferramentas de IA generativa sem monitoramento, abrindo portas para vazamentos de dados.\n> *   **Link:** [https://vertexaisearch.cloud.google.com/grounding-api-redirect/AbF9wXG9o1LqdJ20QiAkzDXtHuC3AWaM16tlYv72W4jEnhb-dG22JvZdmwa_5TyDm0CIXwXba2EU20URBQF5F4DfYlFQ6HLl6y2btafs3vCLinMOeZNcMcrf6nuO08lhu60CFWEbEpJJRnk3AWkru4MCI0KfHvvmpXL4fpNzDXBJUxx8zLC2phC6fK5Vky5P0fyIOWZGW44EbceG3D1pUmDq5oYWOTd-ojJole5USOsoXVPUBd8p7Q==](https://vertexaisearch.cloud.google.com/grounding-api-redirect/AbF9wXG9o1LqdJ20QiAkzDXtHuC3AWaM16tlYv72W4jEnhb-dG22JvZdmwa_5TyDm0CIXwXba2EU20URBQF5F4DfYlFQ6HLl6y2btafs3vCLinMOeZNcMcrf6nuO08lhu60CFWEbEpJJRnk3AWkru4MCI0KfHvvmpXL4fpNzDXBJUxx8zLC2phC6fK5Vky5P0fyIOWZGW44EbceG3D1pUmDq5oYWOTd-ojJole5USOsoXVPUBd8p7Q==)\n> \n> **4. Fraudes online no Brasil aumentam com uso de inteligência artificial**\n> \n> *   **Fonte:** Notícias R7\n> *   **Data:** 17 de maio de 2025\n> *   **Resumo:** Criminosos estão utilizando IA para aprimorar fraudes online no Brasil, resultando em aproximadamente 26 tentativas de golpe por minuto.\n> *   **Link:** [https://vertexaisearch.cloud.google.com/grounding-api-redirect/AbF9wXHlusMYlacmoax4eZcGtdpb6_h_i-whoA9o9Se1VpGMVOs0VVkcE1-Lpp8bGEh4NGbU7tC8NIP5glU4zCcK8rWVEGJfogMia1G6ko5G5tL-oD8tD8N_uY7AlUM5TSaxsA-BPnoGsU5l7OYTwQ3w994lGAE7rmyTZZK1KiHWSVr5yzHkwwPfE0PodldJo2XodvgMPBs2BSVXqzg56eB33dv7Y_BguT0_p1S9yQ==](https://vertexaisearch.cloud.google.com/grounding-api-redirect/AbF9wXHlusMYlacmoax4eZcGtdpb6_h_i-whoA9o9Se1VpGMVOs0VVkcE1-Lpp8bGEh4NGbU7tC8NIP5glU4zCcK8rWVEGJfogMia1G6ko5G5tL-oD8tD8N_uY7AlUM5TSaxsA-BPnoGsU5l7OYTwQ3w994lGAE7rmyTZZK1KiHWSVr5yzHkwwPfE0PodldJo2XodvgMPBs2BSVXqzg56eB33dv7Y_BguT0_p1S9yQ==)\n> \n> **5. Inteligência Artificial fortalece segurança do e-commerce contra fraudes**\n> \n> *   **Fonte:** E-Commerce Brasil\n> *   **Data:** 30 de abril de 2025\n> *   **Resumo:** A IA está sendo usada para analisar grandes volumes de dados em tempo real, identificar padrões suspeitos e bloquear transações fraudulentas em e-commerces, além de reduzir falsos positivos.\n> *   **Link:** [https://vertexaisearch.cloud.google.com/grounding-api-redirect/AbF9wXEh06J8z523_IMN0I3Ehq4c-hD49frLPFJpzcGNX-Byl5yrolJAdhvpTrLo02JoP4qHJb-nPWEMYvsJglPecHscXgtbITEl5wQLNBqOnipsPm0ClIR0l9RKleYvw5sa10kRzu-lK77FmBzxwMzx396hGhwmAgf-MGKsgtcsvV5W3twpUjI9aApDjqQXRdJRsy40u891ZRj5VUA9gvjv7taI2EwSes9P1jHN0-3br8GM](https://vertexaisearch.cloud.google.com/grounding-api-redirect/AbF9wXEh06J8z523_IMN0I3Ehq4c-hD49frLPFJpzcGNX-Byl5yrolJAdhvpTrLo02JoP4qHJb-nPWEMYvsJglPecHscXgtbITEl5wQLNBqOnipsPm0ClIR0l9RKleYvw5sa10kRzu-lK77FmBzxwMzx396hGhwmAgf-MGKsgtcsvV5W3twpUjI9aApDjqQXRdJRsy40u891ZRj5VUA9gvjv7taI2EwSes9P1jHN0-3br8GM)\n> \n> **6. Google passa a usar IA para identificar sites fraudulentos no Chrome**\n> \n> *   **Fonte:** CNN Brasil\n> *   **Data:** 8 de maio de 2025\n> *   **Resumo:** O Google está usando uma versão de seu modelo de IA Gemini para detectar e alertar sobre golpes de \"suporte técnico\" no Chrome, Busca e Android.\n> *   **Link:** [https://vertexaisearch.cloud.google.com/grounding-api-redirect/AbF9wXFjYgUY85n0irQU7MtCbinch4eyHZ2KgmW6VGIWETN17kOwqwB9h9binzgDIQQ4W03Seu2nXZAC0rwhn5h1o1sYwlr6uUsu5ELSSuWdkL-0pciljbbSt5Bq7LwbH8SYY5fOmmxxt1PI09MR7VUGHZNIGqQZt-d256tYBktpvnAixJXuoG3OLQffzvD2u0QFxe6t40Y4S-Gd84crIC5R4ysowaZ5I3rWqnU=](https://vertexaisearch.cloud.google.com/grounding-api-redirect/AbF9wXFjYgUY85n0irQU7MtCbinch4eyHZ2KgmW6VGIWETN17kOwqwB9h9binzgDIQQ4W03Seu2nXZAC0rwhn5h1o1sYwlr6uUsu5ELSSuWdkL-0pciljbbSt5Bq7LwbH8SYY5fOmmxxt1PI09MR7VUGHZNIGqQZt-d256tYBktpvnAixJXuoG3OLQffzvD2u0QFxe6t40Y4S-Gd84crIC5R4ysowaZ5I3rWqnU=)\n> \n> **7. Cibersegurança em tempos de Inteligência Artificial**\n> \n> *   **Fonte:** A Voz da Indústria\n> *   **Data:** 29 de abril de 2025\n> *   **Resumo:** A IA pode ser usada tanto para reforçar a cibersegurança quanto para amplificar ataques cibernéticos, como phishing e malware. É fundamental que as empresas invistam em proteções digitais reforçadas e utilizem a IA com responsabilidade.\n> *   **Link:** [https://vertexaisearch.cloud.google.com/grounding-api-redirect/AbF9wXGz9QwtN7YUTDSEO_d8UCPCnp7Gzn1R-_OI-1wbU5q6dJPvccoW7U5ovpLzQqSAiT9u4IkzTKCf2sTwOhY6jaBtUR1ehTFVpsWi_Y6mx6Lj41uhKzPe6Q62F1B0OpKdiH6GP91my_O9W3kqgE2l2UvecFJjwRL0OjRUajbni33BSbrQhqqO1Tdg3R7-wkBjPHDadNy5HA==](https://vertexaisearch.cloud.google.com/grounding-api-redirect/AbF9wXGz9QwtN7YUTDSEO_d8UCPCnp7Gzn1R-_OI-1wbU5q6dJPvccoW7U5ovpLzQqSAiT9u4IkzTKCf2sTwOhY6jaBtUR1ehTFVpsWi_Y6mx6Lj41uhKzPe6Q62F1B0OpKdiH6GP91my_O9W3kqgE2l2UvecFJjwRL0OjRUajbni33BSbrQhqqO1Tdg3R7-wkBjPHDadNy5HA==)\n> \n> **8. Golpes virtuais aumentam e não fazem distinção de idade**\n> \n> *   **Fonte:** COAD\n> *   **Data:** 15 de abril de 2025\n> *   **Resumo:** Jovens entre 16 e 29 anos são as maiores vítimas de golpes virtuais, mas a IA está tornando mais difícil reconhecer fraudes, mesmo para pessoas com menos familiaridade com a tecnologia.\n> *   **Link:** [https://vertexaisearch.cloud.google.com/grounding-api-redirect/AbF9wXGEihvu6XKodaP-N55cfvaVPDBPMiA2tM1S-AqkwPp8DXN4O88cJyKnE3eG836OSYu629wSLN6ixv50odvulJvM2frjCAWcRs9a67e_e0VoOvmCbFWgxphvQsPfcNBepJhibK1IkK16uQSgz_tSLhL1du1VnTLsxuMcR7ZozkK0MvJhgnMwVeXzNwuFwlT58dtgczSOVvG8UtwUC87swYl90iWvsseF](https://vertexaisearch.cloud.google.com/grounding-api-redirect/AbF9wXGEihvu6XKodaP-N55cfvaVPDBPMiA2tM1S-AqkwPp8DXN4O88cJyKnE3eG836OSYu629wSLN6ixv50odvulJvM2frjCAWcRs9a67e_e0VoOvmCbFWgxphvQsPfcNBepJhibK1IkK16uQSgz_tSLhL1du1VnTLsxuMcR7ZozkK0MvJhgnMwVeXzNwuFwlT58dtgczSOVvG8UtwUC87swYl90iWvsseF)\n> \n> **9. Em golpe da ração, criminosos pedem à IA mensagem com “tom profissional“**\n> \n> *   **Fonte:** CNN Brasil\n> *   **Data:** 17 de maio de 2025\n> *   **Resumo:** Golpistas estão usando ferramentas de inteligência artificial, como o ChatGPT, para elaborar mensagens mais convincentes e personalizadas.\n> *   **Link:** [https://vertexaisearch.cloud.google.com/grounding-api-redirect/AbF9wXEKb1tMPX-otwcihJRjO1GYhplRt3lCBNOjclDEiY_2ysiNxKPCiPOVxxQBsPPADiO3LYp2_XFi2GEqqcOtZQ7uFQsdtt9_flBc4B_9SqsHPtdIuxqiYmjtgcJagy0bB2QP0z1qE8yWUOw5JbJTfF5L4jvIw9vhIrAZsmhi8OboCGswp4rrZKigYyDPJQnz3rM5SoAT5NmVqZjvuTzTudvPGly03zdpHNG0lfNsYuk=](https://vertexaisearch.cloud.google.com/grounding-api-redirect/AbF9wXEKb1tMPX-otwcihJRjO1GYhplRt3lCBNOjclDEiY_2ysiNxKPCiPOVxxQBsPPADiO3LYp2_XFi2GEqqcOtZQ7uFQsdtt9_flBc4B_9SqsHPtdIuxqiYmjtgcJagy0bB2QP0z1qE8yWUOw5JbJTfF5L4jvIw9vhIrAZsmhi8OboCGswp4rrZKigYyDPJQnz3rM5SoAT5NmVqZjvuTzTudvPGly03zdpHNG0lfNsYuk=)\n> \n> **10. Uso da Inteligência Artificial na cibersegurança é a tônica da RSA Conference 2025, maior evento mundial do setor**\n> \n> *   **Fonte:** Revista LYNX\n> *   **Data:** 15 de maio de 2025\n> *   **Resumo:** O uso da IA nas ferramentas de cibersegurança foi o tema central da RSA Conference 2025. Praticamente todos os players apresentaram soluções com essa tecnologia, com o intuito de acelerar os processos e ganhar velocidade e maturidade na área de segurança.\n> *   **Link:** [https://vertexaisearch.cloud.google.com/grounding-api-redirect/AbF9wXE14IVI6NKjq-fGsSuT_VPVdmnolQavSgoRPdIRnfxG_b0mvxZH_ZybMAA23eQsEWNNLfBVBWE8HiJQkCnb9dquwiyrUj3U0x4YXxnNBh8DcTIJUha1PVDRfI1ryMUCzD0q0zEtEtMZt3ad4DYXXz8h4D11dtPPk7XgkKF5Q0ieYxHnCRgQ7JBD](https://vertexaisearch.cloud.google.com/grounding-api-redirect/AbF9wXE14IVI6NKjq-fGsSuT_VPVdmnolQavSgoRPdIRnfxG_b0mvxZH_ZybMAA23eQsEWNNLfBVBWE8HiJQkCnb9dquwiyrUj3U0x4YXxnNBh8DcTIJUha1PVDRfI1ryMUCzD0q0zEtEtMZt3ad4DYXXz8h4D11dtPPk7XgkKF5Q0ieYxHnCRgQ7JBD)\n> \n> **11. IA na defesa e no ataque: a nova ordem da cibersegurança, segundo a CrowdStrike**\n> \n> *   **Fonte:** Exame\n> *   **Data:** 7 de março de 2025\n> *   **Resumo:** As empresas estão acelerando o uso de IA para proteção, mas, ao mesmo tempo, os ataques se tornam mais sofisticados. Com IA, um invasor pode criar vulnerabilidades zero-day a cada momento.\n> *   **Link:** [https://vertexaisearch.cloud.google.com/grounding-api-redirect/AbF9wXEcN4xk0DwgSaBceXy7mE9A9Vqbva9Sb-Y_ZsekCr8S0mReTKfVlZrKRjnltW3XLwUgN4lPp6NQKHNMCd3ruLVW5AbJe71mLnGbLTZASyf25mJpcBeeyrQdNREtgvO4RYPYllJngEx58CchdAKw4SeVJVR_Cfrg1cjwyc35vBnIYx9HXb8Kus-2xxlOdOHCms4GXaBb7_KJl3mpFyWzzQm6OXb4QM163-vozEBZDLuW182amQ==](https://vertexaisearch.cloud.google.com/grounding-api-redirect/AbF9wXEcN4xk0DwgSaBceXy7mE9A9Vqbva9Sb-Y_ZsekCr8S0mReTKfVlZrKRjnltW3XLwUgN4lPp6NQKHNMCd3ruLVW5AbJe71mLnGbLTZASyf25mJpcBeeyrQdNREtgvO4RYPYllJngEx58CchdAKw4SeVJVR_Cfrg1cjwyc35vBnIYx9HXb8Kus-2xxlOdOHCms4GXaBb7_KJl3mpFyWzzQm6OXb4QM163-vozEBZDLuW182amQ==)\n> \n> **12. Cyber Signals 9ª Edição | Enganação impulsionada por IA: Ameaças emergentes de fraude e contramedidas**\n> \n> *   **Fonte:** Microsoft News\n> *   **Data:** 16 de abril de 2025\n> *   **Resumo:** A IA está baixando a barreira técnica para agentes de fraudes e crimes cibernéticos, tornando mais fácil e barato gerar conteúdo convincente para ataques. Golpistas estão usando deepfakes, clonagem de voz, e-mails de phishing e sites falsos para parecer legítimos em maior escala.\n> *   **Link:** [https://vertexaisearch.cloud.google.com/grounding-api-redirect/AbF9wXGRaZjTmQ9MUiRRCFbeOivynOItrUm9LqiDI45xggTQSKsZqEaUXpyomBYrRGv33Q9vO3CEXSXmkH3NhX-9ea4ALivrLBXHaYnCon1oz7duShy0B9WJvwvtTkR1Zlqqd8uCdC8OyqjRMWBzDMvR-gzZ6KLA4ClNDeRxKivE_gktv8rTsGlQe1idasOWmGQmWoHM9dDvszuCWa90U3WuEPNfl47nuZXoGOYAjl8Zrvalp3ic-G_k-SsP4JtIjvk7zPPgnTMq0LwcuVBidw6461Ffu4W1osoHJF-MOsh-g_XDqkNzk8a9](https://vertexaisearch.cloud.google.com/grounding-api-redirect/AbF9wXGRaZjTmQ9MUiRRCFbeOivynOItrUm9LqiDI45xggTQSKsZqEaUXpyomBYrRGv33Q9vO3CEXSXmkH3NhX-9ea4ALivrLBXHaYnCon1oz7duShy0B9WJvwvtTkR1Zlqqd8uCdC8OyqjRMWBzDMvR-gzZ6KLA4ClNDeRxKivE_gktv8rTsGlQe1idasOWmGQmWoHM9dDvszuCWa90U3WuEPNfl47nuZXoGOYAjl8Zrvalp3ic-G_k-SsP4JtIjvk7zPPgnTMq0LwcuVBidw6461Ffu4W1osoHJF-MOsh-g_XDqkNzk8a9)\n> \n> Espero que isso seja útil!\n> \n"
          },
          "metadata": {}
        },
        {
          "output_type": "stream",
          "name": "stdout",
          "text": [
            "--------------------------------------------------------------\n",
            "\n",
            "--- 📝 Resultado do Agente 2 (Planejador) ---\n",
            "\n"
          ]
        },
        {
          "output_type": "display_data",
          "data": {
            "text/plain": [
              "<IPython.core.display.Markdown object>"
            ],
            "text/markdown": "> Aqui está a notícia mais relevante para um post de conscientização, baseada nos critérios fornecidos:\n> \n> *   **Título:** Fraude impulsionada por IA: A nova ameaça para empresas\n> *   **Link:** [https://vertexaisearch.cloud.google.com/grounding-api-redirect/AbF9wXF882Jmu5hlbG_2WuRLN_YYIfQMzL04uPdYh-gJau_uDrjj0bKJrhDw-ybhHbQaq-pyg_XJkYvoDpTeqG4S1u5q9xAiNX1nexpQ0g0D8br5JWmxVJDRBwKbZofiOOT-iJIlmaaBWvHyyPwr-WBJhdAQV-JSl_GDKUXo4vhrs_YXI8u-q5Xk33_agEJ4klhgVvQ6GazAaVYIt0wwEwLZQoUsX4mTtvsTZ_WHiQqg](https://vertexaisearch.cloud.google.com/grounding-api-redirect/AbF9wXF882Jmu5hlbG_2WuRLN_YYIfQMzL04uPdYh-gJau_uDrjj0bKJrhDw-ybhHbQaq-pyg_XJkYvoDpTeqG4S1u5q9xAiNX1nexpQ0g0D8br5JWmxVJDRBwKbZofiOOT-iJIlmaaBWvHyyPwr-WBJhdAQV-JSl_GDKUXo4vhrs_YXI8u-q5Xk33_agEJ4klhgVvQ6GazAaVYIt0wwEwLZQoUsX4mTtvsTZ_WHiQqg)\n> \n> **Motivo da seleção:**\n> \n> Esta notícia é de grande relevância e impacto para os colaboradores de uma empresa porque destaca como a inteligência artificial está sendo utilizada para sofisticar golpes digitais. A criação de funcionários falsos com currículos e documentos forjados e o uso de deepfakes em fraudes BEC podem enganar até mesmo os funcionários mais experientes. Alertar os colaboradores sobre essas novas táticas de fraude impulsionadas por IA pode aumentar a vigilância e reduzir o risco de a empresa ser vítima desses ataques. Além disso, a notícia é recente e de uma fonte confiável (ESET/WeLiveSecurity).\n> \n"
          },
          "metadata": {}
        },
        {
          "output_type": "stream",
          "name": "stdout",
          "text": [
            "--------------------------------------------------------------\n"
          ]
        },
        {
          "output_type": "stream",
          "name": "stderr",
          "text": [
            "Exception in thread Thread-28 (_asyncio_thread_main):\n",
            "Traceback (most recent call last):\n",
            "  File \"/usr/lib/python3.11/threading.py\", line 1045, in _bootstrap_inner\n",
            "    self.run()\n",
            "  File \"/usr/lib/python3.11/threading.py\", line 982, in run\n",
            "    self._target(*self._args, **self._kwargs)\n",
            "  File \"/usr/local/lib/python3.11/dist-packages/google/adk/runners.py\", line 138, in _asyncio_thread_main\n",
            "    asyncio.run(_invoke_run_async())\n",
            "  File \"/usr/lib/python3.11/asyncio/runners.py\", line 190, in run\n",
            "    return runner.run(main)\n",
            "           ^^^^^^^^^^^^^^^^\n",
            "  File \"/usr/lib/python3.11/asyncio/runners.py\", line 118, in run\n",
            "    return self._loop.run_until_complete(task)\n",
            "           ^^^^^^^^^^^^^^^^^^^^^^^^^^^^^^^^^^^\n",
            "  File \"/usr/lib/python3.11/asyncio/base_events.py\", line 654, in run_until_complete\n",
            "    return future.result()\n",
            "           ^^^^^^^^^^^^^^^\n",
            "  File \"/usr/local/lib/python3.11/dist-packages/google/adk/runners.py\", line 126, in _invoke_run_async\n",
            "    async for event in self.run_async(\n",
            "  File \"/usr/local/lib/python3.11/dist-packages/google/adk/runners.py\", line 197, in run_async\n",
            "    async for event in invocation_context.agent.run_async(invocation_context):\n",
            "  File \"/usr/local/lib/python3.11/dist-packages/google/adk/agents/base_agent.py\", line 133, in run_async\n",
            "    async for event in self._run_async_impl(ctx):\n",
            "  File \"/usr/local/lib/python3.11/dist-packages/google/adk/agents/llm_agent.py\", line 246, in _run_async_impl\n",
            "    async for event in self._llm_flow.run_async(ctx):\n",
            "  File \"/usr/local/lib/python3.11/dist-packages/google/adk/flows/llm_flows/base_llm_flow.py\", line 243, in run_async\n",
            "    async for event in self._run_one_step_async(invocation_context):\n",
            "  File \"/usr/local/lib/python3.11/dist-packages/google/adk/flows/llm_flows/base_llm_flow.py\", line 268, in _run_one_step_async\n",
            "    async for llm_response in self._call_llm_async(\n",
            "  File \"/usr/local/lib/python3.11/dist-packages/google/adk/flows/llm_flows/base_llm_flow.py\", line 483, in _call_llm_async\n",
            "    async for llm_response in llm.generate_content_async(\n",
            "  File \"/usr/local/lib/python3.11/dist-packages/google/adk/models/google_llm.py\", line 140, in generate_content_async\n",
            "    response = await self.api_client.aio.models.generate_content(\n",
            "               ^^^^^^^^^^^^^^^^^^^^^^^^^^^^^^^^^^^^^^^^^^^^^^^^^^\n",
            "  File \"/usr/local/lib/python3.11/dist-packages/google/genai/models.py\", line 6672, in generate_content\n",
            "    response = await self._generate_content(\n",
            "               ^^^^^^^^^^^^^^^^^^^^^^^^^^^^^\n",
            "  File \"/usr/local/lib/python3.11/dist-packages/google/genai/models.py\", line 5674, in _generate_content\n",
            "    response_dict = await self._api_client.async_request(\n",
            "                    ^^^^^^^^^^^^^^^^^^^^^^^^^^^^^^^^^^^^^\n",
            "  File \"/usr/local/lib/python3.11/dist-packages/google/genai/_api_client.py\", line 789, in async_request\n",
            "    result = await self._async_request(http_request=http_request, stream=False)\n",
            "             ^^^^^^^^^^^^^^^^^^^^^^^^^^^^^^^^^^^^^^^^^^^^^^^^^^^^^^^^^^^^^^^^^^\n",
            "  File \"/usr/local/lib/python3.11/dist-packages/google/genai/_api_client.py\", line 733, in _async_request\n",
            "    await errors.APIError.raise_for_async_response(response)\n",
            "  File \"/usr/local/lib/python3.11/dist-packages/google/genai/errors.py\", line 129, in raise_for_async_response\n",
            "    raise ClientError(status_code, response_json, response)\n",
            "google.genai.errors.ClientError: 429 RESOURCE_EXHAUSTED. {'error': {'code': 429, 'message': \"Gemini 2.5 Pro Preview doesn't have a free quota tier. For more information on this error, head to: https://ai.google.dev/gemini-api/docs/rate-limits.\", 'status': 'RESOURCE_EXHAUSTED', 'details': [{'@type': 'type.googleapis.com/google.rpc.QuotaFailure', 'violations': [{'quotaMetric': 'generativelanguage.googleapis.com/generate_content_free_tier_input_token_count', 'quotaId': 'GenerateContentInputTokensPerModelPerDay-FreeTier', 'quotaDimensions': {'location': 'global', 'model': 'gemini-2.5-pro-exp'}}, {'quotaMetric': 'generativelanguage.googleapis.com/generate_content_free_tier_requests', 'quotaId': 'GenerateRequestsPerDayPerProjectPerModel-FreeTier', 'quotaDimensions': {'location': 'global', 'model': 'gemini-2.5-pro-exp'}}, {'quotaMetric': 'generativelanguage.googleapis.com/generate_content_free_tier_requests', 'quotaId': 'GenerateRequestsPerMinutePerProjectPerModel-FreeTier', 'quotaDimensions': {'location': 'global', 'model': 'gemini-2.5-pro-exp'}}, {'quotaMetric': 'generativelanguage.googleapis.com/generate_content_free_tier_input_token_count', 'quotaId': 'GenerateContentInputTokensPerModelPerMinute-FreeTier', 'quotaDimensions': {'location': 'global', 'model': 'gemini-2.5-pro-exp'}}]}, {'@type': 'type.googleapis.com/google.rpc.Help', 'links': [{'description': 'Learn more about Gemini API quotas', 'url': 'https://ai.google.dev/gemini-api/docs/rate-limits'}]}, {'@type': 'type.googleapis.com/google.rpc.RetryInfo', 'retryDelay': '48s'}]}}\n"
          ]
        },
        {
          "output_type": "stream",
          "name": "stdout",
          "text": [
            "\n",
            "--- 📝 Resultado do Agente 3 (Redator) ---\n",
            "\n"
          ]
        },
        {
          "output_type": "display_data",
          "data": {
            "text/plain": [
              "<IPython.core.display.Markdown object>"
            ],
            "text/markdown": ""
          },
          "metadata": {}
        },
        {
          "output_type": "stream",
          "name": "stdout",
          "text": [
            "--------------------------------------------------------------\n"
          ]
        }
      ]
    }
  ]
}